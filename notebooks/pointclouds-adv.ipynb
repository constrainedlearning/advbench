{
 "cells": [
  {
   "cell_type": "code",
   "execution_count": 1,
   "metadata": {},
   "outputs": [],
   "source": [
    "from pathlib import Path\n",
    "import os\n",
    "import wandb\n",
    "import pandas as pd\n",
    "import matplotlib.colors as mcolors\n",
    "import os\n",
    "import sys\n",
    "import seaborn as sns\n",
    "sys.path.append('../')\n",
    "import numpy as np\n",
    "import pandas as pd\n",
    "from advbench.datasets import MNIST, STL10\n",
    "from advbench.datasets import to_loaders\n",
    "from advbench.algorithms import ERM, Augmentation, Adversarial_Worst_Of_K, Adversarial_PGD\n",
    "from advbench.attacks import Fo_Adam\n",
    "from advbench import hparams_registry\n",
    "from advbench.lib import  misc\n",
    "import torch\n",
    "from advbench.lib.transformations import se_matrix, angle_to_rotation_matrix, se_transform\n",
    "from sklearn.decomposition import PCA\n",
    "from matplotlib import pyplot as plt\n",
    "from torchvision.datasets.utils import download_url\n",
    "from torchvision.datasets import ImageFolder\n",
    "from torch.utils.data import DataLoader\n",
    "import torchvision.transforms as tt\n",
    "import tarfile\n",
    "from torch import nn\n",
    "import shutil\n",
    "from tqdm import tqdm\n",
    "from advbench.scripts.train import PD_ALGORITHMS"
   ]
  },
  {
   "cell_type": "code",
   "execution_count": 2,
   "metadata": {},
   "outputs": [],
   "source": [
    "from pathlib import Path\n",
    "import os\n",
    "import wandb\n",
    "import pandas as pd\n",
    "import matplotlib.colors as mcolors\n",
    "import os\n",
    "import sys\n",
    "import seaborn as sns\n",
    "sys.path.append('../')\n",
    "import numpy as np\n",
    "import pandas as pd\n",
    "from advbench.datasets import to_loaders\n",
    "from advbench.algorithms import ERM, Augmentation, Adversarial_Worst_Of_K, Adversarial_PGD\n",
    "from advbench.attacks import Fo_Adam\n",
    "from advbench import hparams_registry\n",
    "from advbench.lib import  misc\n",
    "import torch\n",
    "from advbench.lib.transformations import se_matrix, angle_to_rotation_matrix, se_transform\n",
    "from sklearn.decomposition import PCA\n",
    "from matplotlib import pyplot as plt\n",
    "from torchvision.datasets.utils import download_url\n",
    "from torchvision.datasets import ImageFolder\n",
    "from torch.utils.data import DataLoader\n",
    "from torch import nn\n",
    "\n",
    "import torch\n",
    "import random\n",
    "import numpy as np\n",
    "import os\n",
    "import json\n",
    "import pandas as pd\n",
    "import time\n",
    "from humanfriendly import format_timespan\n",
    "\n",
    "\n",
    "from advbench import datasets\n",
    "from advbench import algorithms\n",
    "from advbench import attacks\n",
    "from advbench import hparams_registry\n",
    "from advbench.lib import misc, meters, plotting, logging\n",
    "from torch.cuda.amp import autocast\n",
    "from torchsummary import summary\n",
    "DEVICE = \"cuda:1\"\n",
    "DOWNLOAD_WEIGHTS = True\n",
    "PULL_METRICS = True"
   ]
  },
  {
   "cell_type": "code",
   "execution_count": 3,
   "metadata": {},
   "outputs": [],
   "source": [
    "def load_weights(weight_path, dataset, device=DEVICE, hparams={}):       \n",
    "        kw_args = {\"perturbation\": hparams[\"perturbation\"]}\n",
    "        if hparams[\"algorithm\"] in PD_ALGORITHMS: \n",
    "            if hparams[\"algorithm\"].endswith(\"Reverse\"):\n",
    "                kw_args[\"init\"] = 0.0\n",
    "            else:\n",
    "                kw_args[\"init\"] = 1.0\n",
    "        print(hparams[\"perturbation\"])\n",
    "        algorithm = vars(algorithms)[hparams[\"algorithm\"]](\n",
    "        dataset.INPUT_SHAPE, \n",
    "        dataset.NUM_CLASSES,\n",
    "        hparams,\n",
    "        device,\n",
    "        **kw_args).to(device)\n",
    "        w_dict = torch.load(weight_path,map_location=DEVICE)\n",
    "        #print(weight_dict.keys())\n",
    "        #if db==\"mnist\":\n",
    "        weight_dict = {}\n",
    "        for s,v in w_dict.items():\n",
    "                if \"classifier\" in s and \"model\" not in s:\n",
    "                        weight_dict[s.replace('classifier', 'classifier.model')] = v\n",
    "                else:\n",
    "                        weight_dict[s] = v \n",
    "        algorithm.load_state_dict(weight_dict)\n",
    "        return algorithm"
   ]
  },
  {
   "cell_type": "code",
   "execution_count": 4,
   "metadata": {},
   "outputs": [
    {
     "name": "stdout",
     "output_type": "stream",
     "text": [
      "Fetching data for modelnet40\n",
      "59 runs found\n"
     ]
    },
    {
     "name": "stderr",
     "output_type": "stream",
     "text": [
      "  0%|                                                                                       | 0/59 [00:00<?, ?it/s]"
     ]
    },
    {
     "name": "stdout",
     "output_type": "stream",
     "text": [
      "train-output/finalPointcloudJitter Beta_PD_Reverse DGCNN 3_ckpt.pkl\n"
     ]
    },
    {
     "name": "stderr",
     "output_type": "stream",
     "text": [
      "  5%|████                                                                           | 3/59 [00:00<00:12,  4.43it/s]"
     ]
    },
    {
     "name": "stdout",
     "output_type": "stream",
     "text": [
      "train-output/finalPointcloudJitter Beta_PD_Reverse DGCNN 3_ckpt.pkl\n"
     ]
    },
    {
     "name": "stderr",
     "output_type": "stream",
     "text": [
      "  8%|██████▋                                                                        | 5/59 [00:01<00:15,  3.44it/s]"
     ]
    },
    {
     "name": "stdout",
     "output_type": "stream",
     "text": [
      "train-output/finalPointcloudJitter Beta_PD_Reverse DGCNN 3_ckpt.pkl\n"
     ]
    },
    {
     "name": "stderr",
     "output_type": "stream",
     "text": [
      " 10%|████████                                                                       | 6/59 [00:02<00:21,  2.42it/s]"
     ]
    },
    {
     "name": "stdout",
     "output_type": "stream",
     "text": [
      "train-output/finalPointcloudJitter Beta_PD_Reverse DGCNN 3_ckpt.pkl\n"
     ]
    },
    {
     "name": "stderr",
     "output_type": "stream",
     "text": [
      " 12%|█████████▎                                                                     | 7/59 [00:02<00:25,  2.07it/s]"
     ]
    },
    {
     "name": "stdout",
     "output_type": "stream",
     "text": [
      "train-output/finalPointcloudJitter Beta_PD_Reverse DGCNN 2_ckpt.pkl\n"
     ]
    },
    {
     "name": "stderr",
     "output_type": "stream",
     "text": [
      " 14%|██████████▋                                                                    | 8/59 [00:03<00:28,  1.78it/s]"
     ]
    },
    {
     "name": "stdout",
     "output_type": "stream",
     "text": [
      "train-output/finalPointcloudJitter Beta_PD_Reverse DGCNN 2_ckpt.pkl\n"
     ]
    },
    {
     "name": "stderr",
     "output_type": "stream",
     "text": [
      " 15%|████████████                                                                   | 9/59 [00:04<00:31,  1.59it/s]"
     ]
    },
    {
     "name": "stdout",
     "output_type": "stream",
     "text": [
      "train-output/finalPointcloudJitter Laplacian_DALE_PD_Reverse DGCNN 2_ckpt.pkl\n"
     ]
    },
    {
     "name": "stderr",
     "output_type": "stream",
     "text": [
      " 17%|█████████████▏                                                                | 10/59 [00:05<00:32,  1.49it/s]"
     ]
    },
    {
     "name": "stdout",
     "output_type": "stream",
     "text": [
      "train-output/finalPointcloudJitter Adversarial_Smoothed DGCNN 3_ckpt.pkl\n"
     ]
    },
    {
     "name": "stderr",
     "output_type": "stream",
     "text": [
      " 19%|██████████████▌                                                               | 11/59 [00:05<00:33,  1.44it/s]"
     ]
    },
    {
     "name": "stdout",
     "output_type": "stream",
     "text": [
      "train-output/finalPointcloudJitter Beta_PD_Reverse DGCNN 2_ckpt.pkl\n"
     ]
    },
    {
     "name": "stderr",
     "output_type": "stream",
     "text": [
      " 20%|███████████████▊                                                              | 12/59 [00:06<00:32,  1.43it/s]"
     ]
    },
    {
     "name": "stdout",
     "output_type": "stream",
     "text": [
      "train-output/finalPointcloudJitter Beta_PD_Reverse DGCNN 2_ckpt.pkl\n"
     ]
    },
    {
     "name": "stderr",
     "output_type": "stream",
     "text": [
      " 22%|█████████████████▏                                                            | 13/59 [00:07<00:32,  1.43it/s]"
     ]
    },
    {
     "name": "stdout",
     "output_type": "stream",
     "text": [
      "train-output/finalPointcloudJitter Beta_PD_Reverse DGCNN 1_ckpt.pkl\n"
     ]
    },
    {
     "name": "stderr",
     "output_type": "stream",
     "text": [
      " 24%|██████████████████▌                                                           | 14/59 [00:08<00:38,  1.15it/s]"
     ]
    },
    {
     "name": "stdout",
     "output_type": "stream",
     "text": [
      "train-output/finalPointcloudJitter Beta_PD_Reverse DGCNN 1_ckpt.pkl\n"
     ]
    },
    {
     "name": "stderr",
     "output_type": "stream",
     "text": [
      " 25%|███████████████████▊                                                          | 15/59 [00:09<00:36,  1.21it/s]"
     ]
    },
    {
     "name": "stdout",
     "output_type": "stream",
     "text": [
      "train-output/finalPointcloudJitter Beta_PD_Reverse DGCNN 1_ckpt.pkl\n"
     ]
    },
    {
     "name": "stderr",
     "output_type": "stream",
     "text": [
      " 27%|█████████████████████▏                                                        | 16/59 [00:10<00:33,  1.28it/s]"
     ]
    },
    {
     "name": "stdout",
     "output_type": "stream",
     "text": [
      "train-output/finalPointcloudJitter Laplacian_DALE_PD_Reverse DGCNN 2_ckpt.pkl\n"
     ]
    },
    {
     "name": "stderr",
     "output_type": "stream",
     "text": [
      " 29%|██████████████████████▍                                                       | 17/59 [00:10<00:32,  1.31it/s]"
     ]
    },
    {
     "name": "stdout",
     "output_type": "stream",
     "text": [
      "train-output/finalPointcloudJitter Adversarial_Smoothed DGCNN 3_ckpt.pkl\n"
     ]
    },
    {
     "name": "stderr",
     "output_type": "stream",
     "text": [
      " 31%|███████████████████████▊                                                      | 18/59 [00:11<00:30,  1.35it/s]"
     ]
    },
    {
     "name": "stdout",
     "output_type": "stream",
     "text": [
      "train-output/finalPointcloudJitter Beta_PD_Reverse DGCNN 1_ckpt.pkl\n"
     ]
    },
    {
     "name": "stderr",
     "output_type": "stream",
     "text": [
      " 32%|█████████████████████████                                                     | 19/59 [00:12<00:29,  1.35it/s]"
     ]
    },
    {
     "name": "stdout",
     "output_type": "stream",
     "text": [
      "train-output/finalPointcloudJitter Adversarial_Worst_Of_K DGCNN 0_ckpt.pkl\n"
     ]
    },
    {
     "name": "stderr",
     "output_type": "stream",
     "text": [
      " 34%|██████████████████████████▍                                                   | 20/59 [00:12<00:24,  1.62it/s]"
     ]
    },
    {
     "name": "stdout",
     "output_type": "stream",
     "text": [
      "finalPointcloudJitter Adversarial_Worst_Of_K 0 0 2s5zbcup failed\n",
      "train-output/finalPointcloudJitter Beta_PD_Reverse DGCNN 0_ckpt.pkl\n"
     ]
    },
    {
     "name": "stderr",
     "output_type": "stream",
     "text": [
      " 36%|███████████████████████████▊                                                  | 21/59 [00:13<00:25,  1.49it/s]"
     ]
    },
    {
     "name": "stdout",
     "output_type": "stream",
     "text": [
      "train-output/finalPointcloudJitter Beta_PD_Reverse DGCNN 0_ckpt.pkl\n"
     ]
    },
    {
     "name": "stderr",
     "output_type": "stream",
     "text": [
      " 37%|█████████████████████████████                                                 | 22/59 [00:14<00:26,  1.42it/s]"
     ]
    },
    {
     "name": "stdout",
     "output_type": "stream",
     "text": [
      "train-output/finalPointcloudJitter Beta_PD_Reverse DGCNN 0_ckpt.pkl\n"
     ]
    },
    {
     "name": "stderr",
     "output_type": "stream",
     "text": [
      " 39%|██████████████████████████████▍                                               | 23/59 [00:14<00:25,  1.39it/s]"
     ]
    },
    {
     "name": "stdout",
     "output_type": "stream",
     "text": [
      "train-output/finalPointcloudJitter Adversarial_Worst_Of_K DGCNN 0_ckpt.pkl\n"
     ]
    },
    {
     "name": "stderr",
     "output_type": "stream",
     "text": [
      " 41%|███████████████████████████████▋                                              | 24/59 [00:15<00:25,  1.37it/s]"
     ]
    },
    {
     "name": "stdout",
     "output_type": "stream",
     "text": [
      "train-output/finalPointcloudJitter Adversarial_Worst_Of_K DGCNN 0_ckpt.pkl\n"
     ]
    },
    {
     "name": "stderr",
     "output_type": "stream",
     "text": [
      " 42%|█████████████████████████████████                                             | 25/59 [00:15<00:20,  1.63it/s]"
     ]
    },
    {
     "name": "stdout",
     "output_type": "stream",
     "text": [
      "finalPointcloudJitter Adversarial_Worst_Of_K 0 0 27eskymg failed\n",
      "train-output/finalPointcloudJitter Beta_PD_Reverse DGCNN 0_ckpt.pkl\n"
     ]
    },
    {
     "name": "stderr",
     "output_type": "stream",
     "text": [
      " 44%|██████████████████████████████████▎                                           | 26/59 [00:16<00:22,  1.48it/s]"
     ]
    },
    {
     "name": "stdout",
     "output_type": "stream",
     "text": [
      "train-output/finalPointcloudJitter Laplacian_DALE_PD_Reverse DGCNN 2_ckpt.pkl\n"
     ]
    },
    {
     "name": "stderr",
     "output_type": "stream",
     "text": [
      " 46%|███████████████████████████████████▋                                          | 27/59 [00:17<00:22,  1.44it/s]"
     ]
    },
    {
     "name": "stdout",
     "output_type": "stream",
     "text": [
      "train-output/finalPointcloudJitter Adversarial_Smoothed DGCNN 3_ckpt.pkl\n"
     ]
    },
    {
     "name": "stderr",
     "output_type": "stream",
     "text": [
      " 47%|█████████████████████████████████████                                         | 28/59 [00:18<00:20,  1.48it/s]"
     ]
    },
    {
     "name": "stdout",
     "output_type": "stream",
     "text": [
      "train-output/finalPointcloudJitter Laplacian_DALE_PD_Reverse DGCNN 2_ckpt.pkl\n"
     ]
    },
    {
     "name": "stderr",
     "output_type": "stream",
     "text": [
      " 49%|██████████████████████████████████████▎                                       | 29/59 [00:18<00:21,  1.39it/s]"
     ]
    },
    {
     "name": "stdout",
     "output_type": "stream",
     "text": [
      "train-output/finalPointcloudJitter Adversarial_Smoothed DGCNN 2_ckpt.pkl\n"
     ]
    },
    {
     "name": "stderr",
     "output_type": "stream",
     "text": [
      " 51%|███████████████████████████████████████▋                                      | 30/59 [00:19<00:19,  1.45it/s]"
     ]
    },
    {
     "name": "stdout",
     "output_type": "stream",
     "text": [
      "train-output/finalPointcloudJitter Laplacian_DALE_PD_Reverse DGCNN 2_ckpt.pkl\n"
     ]
    },
    {
     "name": "stderr",
     "output_type": "stream",
     "text": [
      " 53%|████████████████████████████████████████▉                                     | 31/59 [00:20<00:19,  1.41it/s]"
     ]
    },
    {
     "name": "stdout",
     "output_type": "stream",
     "text": [
      "train-output/finalPointcloudJitter Adversarial_Smoothed DGCNN 2_ckpt.pkl\n"
     ]
    },
    {
     "name": "stderr",
     "output_type": "stream",
     "text": [
      " 54%|██████████████████████████████████████████▎                                   | 32/59 [00:21<00:19,  1.41it/s]"
     ]
    },
    {
     "name": "stdout",
     "output_type": "stream",
     "text": [
      "train-output/finalPointcloudJitter Laplacian_DALE_PD_Reverse DGCNN 1_ckpt.pkl\n"
     ]
    },
    {
     "name": "stderr",
     "output_type": "stream",
     "text": [
      " 56%|███████████████████████████████████████████▋                                  | 33/59 [00:21<00:18,  1.41it/s]"
     ]
    },
    {
     "name": "stdout",
     "output_type": "stream",
     "text": [
      "train-output/finalPointcloudJitter Adversarial_Smoothed DGCNN 2_ckpt.pkl\n"
     ]
    },
    {
     "name": "stderr",
     "output_type": "stream",
     "text": [
      " 58%|████████████████████████████████████████████▉                                 | 34/59 [00:22<00:19,  1.29it/s]"
     ]
    },
    {
     "name": "stdout",
     "output_type": "stream",
     "text": [
      "train-output/finalPointcloudJitter Laplacian_DALE_PD_Reverse DGCNN 1_ckpt.pkl\n"
     ]
    },
    {
     "name": "stderr",
     "output_type": "stream",
     "text": [
      " 59%|██████████████████████████████████████████████▎                               | 35/59 [00:23<00:18,  1.29it/s]"
     ]
    },
    {
     "name": "stdout",
     "output_type": "stream",
     "text": [
      "train-output/finalPointcloudJitter Adversarial_Smoothed DGCNN 2_ckpt.pkl\n"
     ]
    },
    {
     "name": "stderr",
     "output_type": "stream",
     "text": [
      " 61%|███████████████████████████████████████████████▌                              | 36/59 [00:24<00:16,  1.37it/s]"
     ]
    },
    {
     "name": "stdout",
     "output_type": "stream",
     "text": [
      "train-output/finalPointcloudJitter Laplacian_DALE_PD_Reverse DGCNN 1_ckpt.pkl\n"
     ]
    },
    {
     "name": "stderr",
     "output_type": "stream",
     "text": [
      " 63%|████████████████████████████████████████████████▉                             | 37/59 [00:24<00:16,  1.33it/s]"
     ]
    },
    {
     "name": "stdout",
     "output_type": "stream",
     "text": [
      "train-output/finalPointcloudJitter Adversarial_Smoothed DGCNN 1_ckpt.pkl\n"
     ]
    },
    {
     "name": "stderr",
     "output_type": "stream",
     "text": [
      " 64%|██████████████████████████████████████████████████▏                           | 38/59 [00:25<00:16,  1.31it/s]"
     ]
    },
    {
     "name": "stdout",
     "output_type": "stream",
     "text": [
      "train-output/finalPointcloudJitter Laplacian_DALE_PD_Reverse DGCNN 1_ckpt.pkl\n"
     ]
    },
    {
     "name": "stderr",
     "output_type": "stream",
     "text": [
      " 66%|███████████████████████████████████████████████████▌                          | 39/59 [00:26<00:15,  1.32it/s]"
     ]
    },
    {
     "name": "stdout",
     "output_type": "stream",
     "text": [
      "train-output/finalPointcloudJitter Adversarial_Smoothed DGCNN 1_ckpt.pkl\n"
     ]
    },
    {
     "name": "stderr",
     "output_type": "stream",
     "text": [
      " 68%|████████████████████████████████████████████████████▉                         | 40/59 [00:27<00:15,  1.25it/s]"
     ]
    },
    {
     "name": "stdout",
     "output_type": "stream",
     "text": [
      "train-output/finalPointcloudJitter Laplacian_DALE_PD_Reverse DGCNN 1_ckpt.pkl\n"
     ]
    },
    {
     "name": "stderr",
     "output_type": "stream",
     "text": [
      " 69%|██████████████████████████████████████████████████████▏                       | 41/59 [00:28<00:14,  1.27it/s]"
     ]
    },
    {
     "name": "stdout",
     "output_type": "stream",
     "text": [
      "train-output/finalPointcloudJitter Adversarial_Smoothed DGCNN 1_ckpt.pkl\n"
     ]
    },
    {
     "name": "stderr",
     "output_type": "stream",
     "text": [
      " 71%|███████████████████████████████████████████████████████▌                      | 42/59 [00:28<00:13,  1.26it/s]"
     ]
    },
    {
     "name": "stdout",
     "output_type": "stream",
     "text": [
      "train-output/finalPointcloudJitter Laplacian_DALE_PD_Reverse DGCNN 0_ckpt.pkl\n"
     ]
    },
    {
     "name": "stderr",
     "output_type": "stream",
     "text": [
      " 73%|████████████████████████████████████████████████████████▊                     | 43/59 [00:29<00:12,  1.29it/s]"
     ]
    },
    {
     "name": "stdout",
     "output_type": "stream",
     "text": [
      "train-output/finalPointcloudJitter Adversarial_Smoothed DGCNN 1_ckpt.pkl\n"
     ]
    },
    {
     "name": "stderr",
     "output_type": "stream",
     "text": [
      " 75%|██████████████████████████████████████████████████████████▏                   | 44/59 [00:30<00:11,  1.30it/s]"
     ]
    },
    {
     "name": "stdout",
     "output_type": "stream",
     "text": [
      "train-output/finalPointcloudJitter Laplacian_DALE_PD_Reverse DGCNN 0_ckpt.pkl\n"
     ]
    },
    {
     "name": "stderr",
     "output_type": "stream",
     "text": [
      " 76%|███████████████████████████████████████████████████████████▍                  | 45/59 [00:31<00:10,  1.28it/s]"
     ]
    },
    {
     "name": "stdout",
     "output_type": "stream",
     "text": [
      "train-output/finalPointcloudJitter Adversarial_Smoothed DGCNN 0_ckpt.pkl\n"
     ]
    },
    {
     "name": "stderr",
     "output_type": "stream",
     "text": [
      " 78%|████████████████████████████████████████████████████████████▊                 | 46/59 [00:31<00:10,  1.29it/s]"
     ]
    },
    {
     "name": "stdout",
     "output_type": "stream",
     "text": [
      "train-output/finalPointcloudJitter Laplacian_DALE_PD_Reverse DGCNN 0_ckpt.pkl\n"
     ]
    },
    {
     "name": "stderr",
     "output_type": "stream",
     "text": [
      " 80%|██████████████████████████████████████████████████████████████▏               | 47/59 [00:32<00:09,  1.32it/s]"
     ]
    },
    {
     "name": "stdout",
     "output_type": "stream",
     "text": [
      "train-output/finalPointcloudJitter Adversarial_Smoothed DGCNN 0_ckpt.pkl\n"
     ]
    },
    {
     "name": "stderr",
     "output_type": "stream",
     "text": [
      " 81%|███████████████████████████████████████████████████████████████▍              | 48/59 [00:33<00:08,  1.37it/s]"
     ]
    },
    {
     "name": "stdout",
     "output_type": "stream",
     "text": [
      "train-output/finalPointcloudJitter Laplacian_DALE_PD_Reverse DGCNN 0_ckpt.pkl\n"
     ]
    },
    {
     "name": "stderr",
     "output_type": "stream",
     "text": [
      " 83%|████████████████████████████████████████████████████████████████▊             | 49/59 [00:34<00:07,  1.33it/s]"
     ]
    },
    {
     "name": "stdout",
     "output_type": "stream",
     "text": [
      "train-output/finalPointcloudJitter Adversarial_Smoothed DGCNN 0_ckpt.pkl\n"
     ]
    },
    {
     "name": "stderr",
     "output_type": "stream",
     "text": [
      " 85%|██████████████████████████████████████████████████████████████████            | 50/59 [00:34<00:06,  1.36it/s]"
     ]
    },
    {
     "name": "stdout",
     "output_type": "stream",
     "text": [
      "train-output/finalPointcloudJitter Laplacian_DALE_PD_Reverse DGCNN 0_ckpt.pkl\n"
     ]
    },
    {
     "name": "stderr",
     "output_type": "stream",
     "text": [
      " 86%|███████████████████████████████████████████████████████████████████▍          | 51/59 [00:35<00:06,  1.22it/s]"
     ]
    },
    {
     "name": "stdout",
     "output_type": "stream",
     "text": [
      "train-output/finalPointcloudJitter Adversarial_Smoothed DGCNN 0_ckpt.pkl\n"
     ]
    },
    {
     "name": "stderr",
     "output_type": "stream",
     "text": [
      " 88%|████████████████████████████████████████████████████████████████████▋         | 52/59 [00:36<00:05,  1.27it/s]"
     ]
    },
    {
     "name": "stdout",
     "output_type": "stream",
     "text": [
      "train-output/finalPointcloudJitter Laplacian_DALE_PD_Reverse DGCNN 0_ckpt.pkl\n"
     ]
    },
    {
     "name": "stderr",
     "output_type": "stream",
     "text": [
      " 90%|██████████████████████████████████████████████████████████████████████        | 53/59 [00:36<00:03,  1.51it/s]"
     ]
    },
    {
     "name": "stdout",
     "output_type": "stream",
     "text": [
      "finalPointcloudJitter Laplacian_DALE_PD_Reverse 0 0 czrkyda3 failed\n",
      "train-output/finalPointcloudJitter Laplacian_DALE_PD_Reverse DGCNN 0_ckpt.pkl\n"
     ]
    },
    {
     "name": "stderr",
     "output_type": "stream",
     "text": [
      " 92%|███████████████████████████████████████████████████████████████████████▍      | 54/59 [00:37<00:02,  1.75it/s]"
     ]
    },
    {
     "name": "stdout",
     "output_type": "stream",
     "text": [
      "finalPointcloudJitter Laplacian_DALE_PD_Reverse 0 0 3lfwb0ba failed\n",
      "train-output/finalPointcloudJitter Adversarial_Smoothed DGCNN 0_ckpt.pkl\n"
     ]
    },
    {
     "name": "stderr",
     "output_type": "stream",
     "text": [
      " 93%|████████████████████████████████████████████████████████████████████████▋     | 55/59 [00:37<00:02,  1.99it/s]"
     ]
    },
    {
     "name": "stdout",
     "output_type": "stream",
     "text": [
      "finalPointcloudJitter Adversarial_Smoothed 0 0 2ue01qm5 failed\n",
      "train-output/finalPointcloudJitter Laplacian_DALE_PD_Reverse DGCNN 0_ckpt.pkl\n"
     ]
    },
    {
     "name": "stderr",
     "output_type": "stream",
     "text": [
      " 95%|██████████████████████████████████████████████████████████████████████████    | 56/59 [00:38<00:01,  1.78it/s]"
     ]
    },
    {
     "name": "stdout",
     "output_type": "stream",
     "text": [
      "train-output/finalPointcloudJitter Adversarial_Smoothed DGCNN 0_ckpt.pkl\n"
     ]
    },
    {
     "name": "stderr",
     "output_type": "stream",
     "text": [
      " 97%|███████████████████████████████████████████████████████████████████████████▎  | 57/59 [00:39<00:01,  1.62it/s]"
     ]
    },
    {
     "name": "stdout",
     "output_type": "stream",
     "text": [
      "train-output/finalPointcloudJitter Laplacian_DALE_PD_Reverse DGCNN 0_ckpt.pkl\n"
     ]
    },
    {
     "name": "stderr",
     "output_type": "stream",
     "text": [
      " 98%|████████████████████████████████████████████████████████████████████████████▋ | 58/59 [00:39<00:00,  1.46it/s]"
     ]
    },
    {
     "name": "stdout",
     "output_type": "stream",
     "text": [
      "train-output/finalPointcloudJitter Adversarial_Smoothed DGCNN 0_ckpt.pkl\n"
     ]
    },
    {
     "name": "stderr",
     "output_type": "stream",
     "text": [
      "100%|██████████████████████████████████████████████████████████████████████████████| 59/59 [00:40<00:00,  1.45it/s]\n"
     ]
    }
   ],
   "source": [
    "if PULL_METRICS:\n",
    "    api = wandb.Api(timeout=50)\n",
    "    dsets = [\"modelnet40\"]#[\"STL10\", \"CIFAR100\"]\n",
    "    #results_dfs = {}\n",
    "    entity = \"hounie\"\n",
    "    all_runs_list = []\n",
    "    for dataset in dsets:\n",
    "        print(\"Fetching data for {}\".format(dataset))\n",
    "        project = f\"OOD-{dataset}\"\n",
    "        base = f\"../trained_weights/{project}\"\n",
    "        Path( base ).mkdir( parents=True, exist_ok=True )\n",
    "        runs = api.runs(f\"{entity}/{project}\")\n",
    "        print(f\"{len(runs)} runs found\")\n",
    "        for run in tqdm(runs):\n",
    "            if run.state == \"finished\" or (dataset==\"modelnet40\" and run.state != \"running\"):\n",
    "                id = run.id\n",
    "                run = api.run(f\"{entity}/{project}/{id}\")\n",
    "                tmp_path = os.path.join(base, f\"tmp\")\n",
    "                weight_dir = os.path.join(base, run.name)\n",
    "                path = os.path.join(weight_dir, f\"{run.id}.pkl\")\n",
    "                Path( weight_dir ).mkdir( parents=True, exist_ok=True )\n",
    "                results = {**run.summary, **run.config, \"weights\": path, \"id\": run.id, \"name\":run.name}\n",
    "                if DOWNLOAD_WEIGHTS:\n",
    "                    try:\n",
    "                        print(f\"train-output/{run.name[:-4]} DGCNN {run.name[-1]}_ckpt.pkl\")\n",
    "                        f = run.file(f\"train-output/{run.name[:-4]} DGCNN {run.name[-1]}_ckpt.pkl\").download(tmp_path, replace=True) \n",
    "                        os.rename(f.name, path)\n",
    "                        all_runs_list.append(results)\n",
    "                    except:\n",
    "                        print(f\"{run.name} {run.id} failed\")\n",
    "                        \n",
    "    df = pd.DataFrame(all_runs_list)\n",
    "    df.to_csv(f\"./results.csv\")"
   ]
  },
  {
   "cell_type": "code",
   "execution_count": 5,
   "metadata": {},
   "outputs": [],
   "source": [
    "df = pd.read_csv(\"./results.csv\")\n",
    "test_keys = []\n",
    "train_keys = []\n",
    "for c in df.columns:\n",
    "        if \"loss\" not in c and \"acc\" not in c:\n",
    "            if c.startswith(\"test\"):\n",
    "                test_keys.append(c)\n",
    "            else:\n",
    "                train_keys.append(c)\n",
    "    "
   ]
  },
  {
   "cell_type": "code",
   "execution_count": 7,
   "metadata": {},
   "outputs": [
    {
     "name": "stderr",
     "output_type": "stream",
     "text": [
      "  0%|                                                                                       | 0/51 [00:00<?, ?it/s]"
     ]
    },
    {
     "name": "stdout",
     "output_type": "stream",
     "text": [
      "PointcloudJitter\n",
      "PointcloudJitter\n",
      "0.05\n",
      "PointcloudJitter\n",
      "model DGCNN\n"
     ]
    },
    {
     "data": {
      "text/html": [
       "Finishing last run (ID:2c1noq9z) before initializing another..."
      ],
      "text/plain": [
       "<IPython.core.display.HTML object>"
      ]
     },
     "metadata": {},
     "output_type": "display_data"
    },
    {
     "name": "stdout",
     "output_type": "stream",
     "text": [
      "\n"
     ]
    },
    {
     "data": {
      "text/html": [
       "Waiting for W&B process to finish... <strong style=\"color:green\">(success).</strong>"
      ],
      "text/plain": [
       "<IPython.core.display.HTML object>"
      ]
     },
     "metadata": {},
     "output_type": "display_data"
    },
    {
     "data": {
      "application/vnd.jupyter.widget-view+json": {
       "model_id": "",
       "version_major": 2,
       "version_minor": 0
      },
      "text/plain": [
       "VBox(children=(Label(value='0.000 MB of 0.000 MB uploaded (0.000 MB deduped)\\r'), FloatProgress(value=1.0, max…"
      ]
     },
     "metadata": {},
     "output_type": "display_data"
    },
    {
     "data": {
      "text/html": [
       "<style>\n",
       "    table.wandb td:nth-child(1) { padding: 0 10px; text-align: right }\n",
       "    .wandb-row { display: flex; flex-direction: row; flex-wrap: wrap; width: 100% }\n",
       "    .wandb-col { display: flex; flex-direction: column; flex-basis: 100%; flex: 1; padding: 10px; }\n",
       "    </style>\n",
       "<div class=\"wandb-row\"><div class=\"wandb-col\"><h3>Run summary:</h3><br/><table class=\"wandb\"><tr><td>best_val_clean_acc</td><td>93.29268</td></tr><tr><td>best_val_clean_acc_bal</td><td>90.94158</td></tr><tr><td>best_val_clean_loss</td><td>1.40777</td></tr><tr><td>clean loss_avg</td><td>1.27758</td></tr><tr><td>delta L1-border_avg</td><td>-0.00286</td></tr><tr><td>dual variable_avg</td><td>0.02312</td></tr><tr><td>epoch</td><td>249</td></tr><tr><td>loss_avg</td><td>1.30795</td></tr><tr><td>robust loss_avg</td><td>1.31352</td></tr><tr><td>step</td><td>2214000</td></tr><tr><td>test_clean_acc</td><td>91.57212</td></tr><tr><td>test_clean_acc_bal</td><td>88.04942</td></tr><tr><td>test_clean_loss</td><td>1.46911</td></tr><tr><td>train_clean_acc</td><td>100</td></tr><tr><td>train_clean_acc_bal</td><td>100</td></tr><tr><td>train_clean_loss</td><td>1.24028</td></tr><tr><td>val_clean_macc</td><td>90.94158</td></tr><tr><td>val_clean_oacc</td><td>93.29268</td></tr></table><br/></div></div>"
      ],
      "text/plain": [
       "<IPython.core.display.HTML object>"
      ]
     },
     "metadata": {},
     "output_type": "display_data"
    },
    {
     "data": {
      "text/html": [
       "Synced <strong style=\"color:#cdcd00\">finalPointcloudJitter Beta_PD_Reverse 0 3</strong>: <a href=\"https://wandb.ai/hounie/ood-modelnet40/runs/2c1noq9z\" target=\"_blank\">https://wandb.ai/hounie/ood-modelnet40/runs/2c1noq9z</a><br/>Synced 3 W&B file(s), 0 media file(s), 0 artifact file(s) and 1 other file(s)"
      ],
      "text/plain": [
       "<IPython.core.display.HTML object>"
      ]
     },
     "metadata": {},
     "output_type": "display_data"
    },
    {
     "data": {
      "text/html": [
       "Find logs at: <code>./wandb/run-20220910_193830-2c1noq9z/logs</code>"
      ],
      "text/plain": [
       "<IPython.core.display.HTML object>"
      ]
     },
     "metadata": {},
     "output_type": "display_data"
    },
    {
     "data": {
      "text/html": [
       "Successfully finished last run (ID:2c1noq9z). Initializing new run:<br/>"
      ],
      "text/plain": [
       "<IPython.core.display.HTML object>"
      ]
     },
     "metadata": {},
     "output_type": "display_data"
    },
    {
     "data": {
      "text/html": [
       "wandb version 0.13.3 is available!  To upgrade, please run:\n",
       " $ pip install wandb --upgrade"
      ],
      "text/plain": [
       "<IPython.core.display.HTML object>"
      ]
     },
     "metadata": {},
     "output_type": "display_data"
    },
    {
     "data": {
      "text/html": [
       "Tracking run with wandb version 0.12.14"
      ],
      "text/plain": [
       "<IPython.core.display.HTML object>"
      ]
     },
     "metadata": {},
     "output_type": "display_data"
    },
    {
     "data": {
      "text/html": [
       "Run data is saved locally in <code>/home/chiche/advbench/notebooks/wandb/run-20220910_194620-2c1noq9z</code>"
      ],
      "text/plain": [
       "<IPython.core.display.HTML object>"
      ]
     },
     "metadata": {},
     "output_type": "display_data"
    },
    {
     "data": {
      "text/html": [
       "Resuming run <strong><a href=\"https://wandb.ai/hounie/ood-modelnet40/runs/2c1noq9z\" target=\"_blank\">finalPointcloudJitter Beta_PD_Reverse 0 3</a></strong> to <a href=\"https://wandb.ai/hounie/ood-modelnet40\" target=\"_blank\">Weights & Biases</a> (<a href=\"https://wandb.me/run\" target=\"_blank\">docs</a>)<br/>"
      ],
      "text/plain": [
       "<IPython.core.display.HTML object>"
      ]
     },
     "metadata": {},
     "output_type": "display_data"
    },
    {
     "name": "stdout",
     "output_type": "stream",
     "text": [
      "Logging Fo_PGD...\n"
     ]
    },
    {
     "name": "stderr",
     "output_type": "stream",
     "text": [
      "\n",
      "0it [00:00, ?it/s]\u001b[A\n",
      "1it [00:04,  4.12s/it]\u001b[A\n",
      "2it [00:07,  3.76s/it]\u001b[A\n",
      "3it [00:11,  3.65s/it]\u001b[A\n",
      "4it [00:14,  3.60s/it]\u001b[A\n",
      "5it [00:18,  3.57s/it]\u001b[A\n",
      "6it [00:21,  3.55s/it]\u001b[A\n",
      "7it [00:25,  3.55s/it]\u001b[A\n",
      "8it [00:28,  3.54s/it]\u001b[A\n",
      "9it [00:32,  3.54s/it]\u001b[A\n",
      "10it [00:35,  3.54s/it]\u001b[A\n",
      "11it [00:39,  3.54s/it]\u001b[A\n",
      "12it [00:42,  3.54s/it]\u001b[A\n",
      "13it [00:46,  3.54s/it]\u001b[A\n",
      "14it [00:50,  3.55s/it]\u001b[A\n",
      "15it [00:53,  3.55s/it]\u001b[A\n",
      "16it [00:57,  3.55s/it]\u001b[A\n",
      "17it [01:02,  3.67s/it]\u001b[A\n",
      "  0%|                                                                                       | 0/51 [01:09<?, ?it/s]\n"
     ]
    },
    {
     "ename": "KeyboardInterrupt",
     "evalue": "",
     "output_type": "error",
     "traceback": [
      "\u001b[0;31m---------------------------------------------------------------------------\u001b[0m",
      "\u001b[0;31mKeyboardInterrupt\u001b[0m                         Traceback (most recent call last)",
      "Input \u001b[0;32mIn [7]\u001b[0m, in \u001b[0;36m<cell line: 8>\u001b[0;34m()\u001b[0m\n\u001b[1;32m     52\u001b[0m \u001b[38;5;28;01mfor\u001b[39;00m attack_name, attack \u001b[38;5;129;01min\u001b[39;00m test_attacks\u001b[38;5;241m.\u001b[39mitems():\n\u001b[1;32m     53\u001b[0m     \u001b[38;5;28mprint\u001b[39m(\u001b[38;5;124mf\u001b[39m\u001b[38;5;124m\"\u001b[39m\u001b[38;5;124mLogging \u001b[39m\u001b[38;5;132;01m{\u001b[39;00mattack_name\u001b[38;5;132;01m}\u001b[39;00m\u001b[38;5;124m...\u001b[39m\u001b[38;5;124m\"\u001b[39m)\n\u001b[0;32m---> 54\u001b[0m     test_adv_acc, test_adv_acc_mean, test_adv_acc_bal, test_adv_acc_mean_bal, adv_loss, accs, loss, deltas \u001b[38;5;241m=\u001b[39m \u001b[43mmisc\u001b[49m\u001b[38;5;241;43m.\u001b[39;49m\u001b[43madv_accuracy_loss_delta_balanced\u001b[49m\u001b[43m(\u001b[49m\u001b[43malgorithm\u001b[49m\u001b[43m,\u001b[49m\u001b[43m \u001b[49m\u001b[43mtest_ldr\u001b[49m\u001b[43m,\u001b[49m\u001b[43m \u001b[49m\u001b[43mdevice\u001b[49m\u001b[43m,\u001b[49m\u001b[43m \u001b[49m\u001b[43mattack\u001b[49m\u001b[43m,\u001b[49m\u001b[43m \u001b[49m\u001b[43maugs_per_batch\u001b[49m\u001b[38;5;241;43m=\u001b[39;49m\u001b[38;5;241;43m1\u001b[39;49m\u001b[43m)\u001b[49m\n\u001b[1;32m     55\u001b[0m     \u001b[38;5;28mprint\u001b[39m(\u001b[38;5;124m\"\u001b[39m\u001b[38;5;124mTest Adversarial Accuracy:\u001b[39m\u001b[38;5;124m\"\u001b[39m, test_adv_acc)\n\u001b[1;32m     56\u001b[0m     \u001b[38;5;28mprint\u001b[39m(\u001b[38;5;124m\"\u001b[39m\u001b[38;5;124mTest Balanced Adversarial Accuracy:\u001b[39m\u001b[38;5;124m\"\u001b[39m, test_adv_acc_bal)\n",
      "File \u001b[0;32m~/advbench/notebooks/../advbench/lib/misc.py:282\u001b[0m, in \u001b[0;36madv_accuracy_loss_delta_balanced\u001b[0;34m(algorithm, loader, device, attack, max_batches, augs_per_batch, batched)\u001b[0m\n\u001b[1;32m    280\u001b[0m batch_preds, batch_deltas, batch_labels, batch_losses \u001b[38;5;241m=\u001b[39m [], [], [], []\n\u001b[1;32m    281\u001b[0m \u001b[38;5;28;01mfor\u001b[39;00m _ \u001b[38;5;129;01min\u001b[39;00m \u001b[38;5;28mrange\u001b[39m(augs_per_batch):\n\u001b[0;32m--> 282\u001b[0m     attacked \u001b[38;5;241m=\u001b[39m \u001b[43mattack\u001b[49m\u001b[43m(\u001b[49m\u001b[43mimgs\u001b[49m\u001b[43m,\u001b[49m\u001b[43m \u001b[49m\u001b[43mlabels\u001b[49m\u001b[43m)\u001b[49m\n\u001b[1;32m    283\u001b[0m     \u001b[38;5;28;01mif\u001b[39;00m \u001b[38;5;28mlen\u001b[39m(attacked) \u001b[38;5;241m==\u001b[39m \u001b[38;5;241m2\u001b[39m:\n\u001b[1;32m    284\u001b[0m         adv_imgs, delta \u001b[38;5;241m=\u001b[39m attacked\n",
      "File \u001b[0;32m~/advbench/notebooks/../advbench/attacks.py:30\u001b[0m, in \u001b[0;36mAttack.__call__\u001b[0;34m(self, imgs, labels)\u001b[0m\n\u001b[1;32m     29\u001b[0m \u001b[38;5;28;01mdef\u001b[39;00m \u001b[38;5;21m__call__\u001b[39m(\u001b[38;5;28mself\u001b[39m, imgs, labels):\n\u001b[0;32m---> 30\u001b[0m     \u001b[38;5;28;01mreturn\u001b[39;00m \u001b[38;5;28;43mself\u001b[39;49m\u001b[38;5;241;43m.\u001b[39;49m\u001b[43mforward\u001b[49m\u001b[43m(\u001b[49m\u001b[43mimgs\u001b[49m\u001b[43m,\u001b[49m\u001b[43m \u001b[49m\u001b[43mlabels\u001b[49m\u001b[43m)\u001b[49m\n",
      "File \u001b[0;32m~/advbench/notebooks/../advbench/attacks.py:38\u001b[0m, in \u001b[0;36mAttack.forward\u001b[0;34m(self, imgs, labels)\u001b[0m\n\u001b[1;32m     36\u001b[0m \u001b[38;5;28;01melse\u001b[39;00m:\n\u001b[1;32m     37\u001b[0m     training \u001b[38;5;241m=\u001b[39m \u001b[38;5;28;01mFalse\u001b[39;00m\n\u001b[0;32m---> 38\u001b[0m attack_tuple \u001b[38;5;241m=\u001b[39m \u001b[38;5;28;43mself\u001b[39;49m\u001b[38;5;241;43m.\u001b[39;49m\u001b[43mattack\u001b[49m\u001b[43m(\u001b[49m\u001b[43mimgs\u001b[49m\u001b[43m,\u001b[49m\u001b[43m \u001b[49m\u001b[43mlabels\u001b[49m\u001b[43m)\u001b[49m\n\u001b[1;32m     39\u001b[0m \u001b[38;5;28;01mif\u001b[39;00m training:\n\u001b[1;32m     40\u001b[0m     \u001b[38;5;28mself\u001b[39m\u001b[38;5;241m.\u001b[39mclassifier\u001b[38;5;241m.\u001b[39mtrain()\n",
      "File \u001b[0;32m~/advbench/notebooks/../advbench/attacks.py:68\u001b[0m, in \u001b[0;36mFo.attack\u001b[0;34m(self, imgs, labels)\u001b[0m\n\u001b[1;32m     66\u001b[0m \u001b[38;5;28;01mfor\u001b[39;00m _ \u001b[38;5;129;01min\u001b[39;00m \u001b[38;5;28mrange\u001b[39m(\u001b[38;5;28mself\u001b[39m\u001b[38;5;241m.\u001b[39mhparams[\u001b[38;5;124m'\u001b[39m\u001b[38;5;124mfo_restarts\u001b[39m\u001b[38;5;124m'\u001b[39m]):\n\u001b[1;32m     67\u001b[0m     delta \u001b[38;5;241m=\u001b[39m \u001b[38;5;28mself\u001b[39m\u001b[38;5;241m.\u001b[39mperturbation\u001b[38;5;241m.\u001b[39mdelta_init(imgs)\u001b[38;5;241m.\u001b[39mto(imgs\u001b[38;5;241m.\u001b[39mdevice)\n\u001b[0;32m---> 68\u001b[0m     delta, adv_loss \u001b[38;5;241m=\u001b[39m \u001b[38;5;28;43mself\u001b[39;49m\u001b[38;5;241;43m.\u001b[39;49m\u001b[43moptimize_delta\u001b[49m\u001b[43m(\u001b[49m\u001b[43mimgs\u001b[49m\u001b[43m,\u001b[49m\u001b[43m \u001b[49m\u001b[43mlabels\u001b[49m\u001b[43m,\u001b[49m\u001b[43m \u001b[49m\u001b[43mdelta\u001b[49m\u001b[43m)\u001b[49m\n\u001b[1;32m     69\u001b[0m     worst_delta[adv_loss\u001b[38;5;241m>\u001b[39mhighest_loss] \u001b[38;5;241m=\u001b[39m delta[adv_loss\u001b[38;5;241m>\u001b[39mhighest_loss]\n\u001b[1;32m     70\u001b[0m     highest_loss[adv_loss\u001b[38;5;241m>\u001b[39mhighest_loss] \u001b[38;5;241m=\u001b[39m adv_loss[adv_loss\u001b[38;5;241m>\u001b[39mhighest_loss]\n",
      "File \u001b[0;32m~/advbench/notebooks/../advbench/attacks.py:85\u001b[0m, in \u001b[0;36mFo_PGD.optimize_delta\u001b[0;34m(self, imgs, labels, delta)\u001b[0m\n\u001b[1;32m     83\u001b[0m     adv_loss \u001b[38;5;241m=\u001b[39m \u001b[38;5;28mself\u001b[39m\u001b[38;5;241m.\u001b[39mclassifier\u001b[38;5;241m.\u001b[39mloss(\u001b[38;5;28mself\u001b[39m\u001b[38;5;241m.\u001b[39mclassifier(adv_imgs), labels, reduction\u001b[38;5;241m=\u001b[39m\u001b[38;5;124m'\u001b[39m\u001b[38;5;124mnone\u001b[39m\u001b[38;5;124m'\u001b[39m)\n\u001b[1;32m     84\u001b[0m     mean \u001b[38;5;241m=\u001b[39m adv_loss\u001b[38;5;241m.\u001b[39mmean()\n\u001b[0;32m---> 85\u001b[0m grad \u001b[38;5;241m=\u001b[39m \u001b[43mtorch\u001b[49m\u001b[38;5;241;43m.\u001b[39;49m\u001b[43mautograd\u001b[49m\u001b[38;5;241;43m.\u001b[39;49m\u001b[43mgrad\u001b[49m\u001b[43m(\u001b[49m\u001b[43mmean\u001b[49m\u001b[43m,\u001b[49m\u001b[43m \u001b[49m\u001b[43m[\u001b[49m\u001b[43mdelta\u001b[49m\u001b[43m]\u001b[49m\u001b[43m)\u001b[49m[\u001b[38;5;241m0\u001b[39m]\u001b[38;5;241m.\u001b[39mdetach()\n\u001b[1;32m     86\u001b[0m delta\u001b[38;5;241m.\u001b[39mrequires_grad_(\u001b[38;5;28;01mFalse\u001b[39;00m)\n\u001b[1;32m     87\u001b[0m delta \u001b[38;5;241m+\u001b[39m\u001b[38;5;241m=\u001b[39m \u001b[38;5;28mself\u001b[39m\u001b[38;5;241m.\u001b[39mstep\u001b[38;5;241m*\u001b[39mtorch\u001b[38;5;241m.\u001b[39msign(grad)\n",
      "File \u001b[0;32m~/miniconda3/envs/daug/lib/python3.9/site-packages/torch/autograd/__init__.py:275\u001b[0m, in \u001b[0;36mgrad\u001b[0;34m(outputs, inputs, grad_outputs, retain_graph, create_graph, only_inputs, allow_unused, is_grads_batched)\u001b[0m\n\u001b[1;32m    273\u001b[0m     \u001b[38;5;28;01mreturn\u001b[39;00m _vmap_internals\u001b[38;5;241m.\u001b[39m_vmap(vjp, \u001b[38;5;241m0\u001b[39m, \u001b[38;5;241m0\u001b[39m, allow_none_pass_through\u001b[38;5;241m=\u001b[39m\u001b[38;5;28;01mTrue\u001b[39;00m)(grad_outputs)\n\u001b[1;32m    274\u001b[0m \u001b[38;5;28;01melse\u001b[39;00m:\n\u001b[0;32m--> 275\u001b[0m     \u001b[38;5;28;01mreturn\u001b[39;00m \u001b[43mVariable\u001b[49m\u001b[38;5;241;43m.\u001b[39;49m\u001b[43m_execution_engine\u001b[49m\u001b[38;5;241;43m.\u001b[39;49m\u001b[43mrun_backward\u001b[49m\u001b[43m(\u001b[49m\u001b[43m  \u001b[49m\u001b[38;5;66;43;03m# Calls into the C++ engine to run the backward pass\u001b[39;49;00m\n\u001b[1;32m    276\u001b[0m \u001b[43m        \u001b[49m\u001b[43moutputs\u001b[49m\u001b[43m,\u001b[49m\u001b[43m \u001b[49m\u001b[43mgrad_outputs_\u001b[49m\u001b[43m,\u001b[49m\u001b[43m \u001b[49m\u001b[43mretain_graph\u001b[49m\u001b[43m,\u001b[49m\u001b[43m \u001b[49m\u001b[43mcreate_graph\u001b[49m\u001b[43m,\u001b[49m\u001b[43m \u001b[49m\u001b[43minputs\u001b[49m\u001b[43m,\u001b[49m\n\u001b[1;32m    277\u001b[0m \u001b[43m        \u001b[49m\u001b[43mallow_unused\u001b[49m\u001b[43m,\u001b[49m\u001b[43m \u001b[49m\u001b[43maccumulate_grad\u001b[49m\u001b[38;5;241;43m=\u001b[39;49m\u001b[38;5;28;43;01mFalse\u001b[39;49;00m\u001b[43m)\u001b[49m\n",
      "\u001b[0;31mKeyboardInterrupt\u001b[0m: "
     ]
    }
   ],
   "source": [
    "from tqdm import tqdm\n",
    "CLEAN_METRICS = False\n",
    "data_dir = '../advbench/data'\n",
    "device = DEVICE\n",
    "failed = []\n",
    "n_aug = {\"Fo_PGD\": 1}\n",
    "t_attacks = [k for k in n_aug.keys()]\n",
    "for exp_id in tqdm(df[\"id\"]):\n",
    "        if True:\n",
    "            api = wandb.Api(timeout=50)\n",
    "            exp = df[df[\"id\"]==exp_id]\n",
    "            dataset =  exp[\"dataset\"].values[0]\n",
    "            perturbation = exp[\"perturbation\"].values[0]\n",
    "            print(perturbation)\n",
    "            model = exp[\"model\"].values[0]\n",
    "            if True:\n",
    "                project = f\"OOD-{dataset}\"\n",
    "                t_hparams = exp[test_keys].to_dict(orient='index')[exp.index.values[0]]\n",
    "                test_hparams = {}\n",
    "                for k, v in t_hparams.items():\n",
    "                    test_hparams[k.replace(\"test_\",\"\")] = v\n",
    "                print(exp.perturbation.values[0])\n",
    "                if exp.perturbation.values[0] == 'SE':\n",
    "                    hparams['epsilon'] = torch.tensor([hparams[f'epsilon_{i}'] for i in (\"rot\",\"tx\",\"ty\")]).to(device)\n",
    "                    test_hparams['epsilon'] = torch.tensor([test_hparams[f'epsilon_{tfm}'] for tfm in (\"rot\",\"tx\",\"ty\")]).to(device)\n",
    "                elif exp.perturbation.values[0] =='PointcloudTranslation':\n",
    "                    hparams['epsilon'] = torch.tensor([hparams['epsilon_tx'] for i in range(3)] + [hparams['epsilon_ty'] for i in range(3)]).to(device)\n",
    "                    test_hparams['epsilon'] = torch.tensor([test_hparams['epsilon_tx'] for i in range(3)] + [test_hparams['epsilon_ty'] for i in range(3)]).to(device)\n",
    "\n",
    "                hparams = exp[train_keys].to_dict(orient='index')[exp.index.values[0]]\n",
    "                hparams['model'] = model\n",
    "                test_hparams['epsilon'] = hparams['epsilon']\n",
    "                print(hparams['epsilon'])\n",
    "                hparams['batched'] = True\n",
    "                test_hparams['batched'] = True\n",
    "                if \"augment\" in hparams:\n",
    "                    aug = hparams[\"augment\"]\n",
    "                else:\n",
    "                    aug = True\n",
    "                dataset = vars(datasets)[dataset](data_dir, augmentation = aug)\n",
    "                train_ldr, val_ldr, test_ldr = datasets.to_loaders(dataset, hparams, device=device)\n",
    "                algorithm = load_weights(exp[\"weights\"].values[0], dataset, device=DEVICE, hparams=hparams)           \n",
    "                test_attacks = {a: vars(attacks)[a](algorithm.classifier, test_hparams, DEVICE, perturbation=hparams[\"perturbation\"]) for a in t_attacks}\n",
    "                wandb.init(project=project, resume=exp_id)\n",
    "                if CLEAN_METRICS:\n",
    "                    train_clean_acc, train_clean_mean_acc, train_clean_loss = misc.accuracy_mean_overall_loss(algorithm, train_ldr, device, max_batches=100)\n",
    "                    val_clean_acc, val_clean_mean_acc, val_clean_loss = misc.accuracy_mean_overall_loss(algorithm, val_ldr, device)\n",
    "                    test_clean_acc, test_clean_mean_acc, test_clean_loss = misc.accuracy_mean_overall_loss(algorithm, test_ldr, device)\n",
    "                    wandb.log({'train_clean_loss': train_clean_loss,'train_clean_acc': train_clean_acc, 'train_clean_acc_bal': train_clean_mean_acc})\n",
    "                    wandb.log({'best_val_clean_loss': val_clean_loss, 'best_val_clean_acc': val_clean_acc, 'best_val_clean_acc_bal': val_clean_mean_acc})\n",
    "                    wandb.log({'test_clean_loss': test_clean_loss,'test_clean_acc': test_clean_acc, 'test_clean_acc_bal': test_clean_mean_acc})\n",
    "                for attack_name, attack in test_attacks.items():\n",
    "                    print(f\"Logging {attack_name}...\")\n",
    "                    test_adv_acc, test_adv_acc_mean, test_adv_acc_bal, test_adv_acc_mean_bal, adv_loss, accs, loss, deltas = misc.adv_accuracy_loss_delta_balanced(algorithm, test_ldr, device, attack, augs_per_batch=1)\n",
    "                    print(\"Test Adversarial Accuracy:\", test_adv_acc)\n",
    "                    print(\"Test Balanced Adversarial Accuracy:\", test_adv_acc_bal)\n",
    "                    train_adv_acc, train_adv_acc_mean, train_adv_acc_bal, train_adv_acc_mean_bal, adv_loss, train_accs, train_loss, train_deltas = misc.adv_accuracy_loss_delta_balanced(algorithm, val_ldr, device, attack, augs_per_batch=1)\n",
    "                    print(\"Train Adversarial Accuracy:\", train_adv_acc)\n",
    "                    print(\"Train Balanced Adversarial Accuracy:\", train_adv_acc_bal)\n",
    "                    wandb.log({'test_acc_adv_'+attack_name: test_adv_acc,'test_acc_adv_mean_'+attack_name: test_adv_acc_mean, 'test_loss_adv_'+attack_name: loss.mean(),\n",
    "                     'test_acc_adv_bal_'+attack_name: test_adv_acc_bal, 'test_acc_adv_mean_bal_'+attack_name: test_adv_acc_mean_bal})\n",
    "                    wandb.log({'train_acc_adv_'+attack_name: train_adv_acc,'train_acc_adv_mean_'+attack_name: train_adv_acc_mean, 'train_loss_adv_'+attack_name: loss.mean(),\n",
    "                     'train_acc_adv_bal_'+attack_name: train_adv_acc_bal, 'train_acc_adv_mean_bal_'+attack_name: train_adv_acc_mean_bal})                                                   \n",
    "                wandb.finish(quiet=True)\n",
    "        else:\n",
    "            failed.append(exp_id)\n",
    "\n",
    "with open('failed.txt', 'w') as f:\n",
    "    for line in failed:\n",
    "        f.write(f\"{line}\\n\")"
   ]
  },
  {
   "cell_type": "code",
   "execution_count": null,
   "metadata": {},
   "outputs": [],
   "source": []
  }
 ],
 "metadata": {
  "interpreter": {
   "hash": "65f58aa27a38851e3e9850fef15fa7db5088b1b5f537a1afba292c768d907c52"
  },
  "kernelspec": {
   "display_name": "Python 3 (ipykernel)",
   "language": "python",
   "name": "python3"
  },
  "language_info": {
   "codemirror_mode": {
    "name": "ipython",
    "version": 3
   },
   "file_extension": ".py",
   "mimetype": "text/x-python",
   "name": "python",
   "nbconvert_exporter": "python",
   "pygments_lexer": "ipython3",
   "version": "3.9.12"
  }
 },
 "nbformat": 4,
 "nbformat_minor": 4
}
